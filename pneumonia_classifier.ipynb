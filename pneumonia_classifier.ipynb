{
  "nbformat": 4,
  "nbformat_minor": 0,
  "metadata": {
    "colab": {
      "provenance": [],
      "authorship_tag": "ABX9TyOxW3lFi1gOy2d3oqqJqiCM",
      "include_colab_link": true
    },
    "kernelspec": {
      "name": "python3",
      "display_name": "Python 3"
    },
    "language_info": {
      "name": "python"
    }
  },
  "cells": [
    {
      "cell_type": "markdown",
      "metadata": {
        "id": "view-in-github",
        "colab_type": "text"
      },
      "source": [
        "<a href=\"https://colab.research.google.com/github/Uciolli/pneumonia-classifier/blob/main/pneumonia_classifier.ipynb\" target=\"_parent\"><img src=\"https://colab.research.google.com/assets/colab-badge.svg\" alt=\"Open In Colab\"/></a>"
      ]
    },
    {
      "cell_type": "code",
      "execution_count": 1,
      "metadata": {
        "colab": {
          "base_uri": "https://localhost:8080/"
        },
        "id": "k-EXaH03F6B8",
        "outputId": "b24ef6ac-8fd3-47b7-d494-7f66099d9cee"
      },
      "outputs": [
        {
          "output_type": "stream",
          "name": "stdout",
          "text": [
            "Cloning into 'pneumonia-classifier'...\n",
            "remote: Enumerating objects: 5840, done.\u001b[K\n",
            "remote: Counting objects: 100% (4/4), done.\u001b[K\n",
            "remote: Compressing objects: 100% (4/4), done.\u001b[K\n",
            "remote: Total 5840 (delta 0), reused 4 (delta 0), pack-reused 5836\u001b[K\n",
            "Receiving objects: 100% (5840/5840), 1.13 GiB | 34.35 MiB/s, done.\n",
            "Checking out files: 100% (5858/5858), done.\n"
          ]
        }
      ],
      "source": [
        "! git clone https://github.com/Uciolli/pneumonia-classifier\n"
      ]
    },
    {
      "cell_type": "markdown",
      "source": [
        "# Pneumonia Classifier"
      ],
      "metadata": {
        "id": "Jj9sHVb4HbUz"
      }
    },
    {
      "cell_type": "markdown",
      "source": [
        "## Imports"
      ],
      "metadata": {
        "id": "bVtaLji6Iuco"
      }
    },
    {
      "cell_type": "code",
      "source": [
        "import numpy as np \n",
        "import pandas as pd\n",
        "import os\n",
        "import matplotlib.pyplot as plt\n",
        "import seaborn as sns\n",
        "import keras\n",
        "from keras.models import Sequential\n",
        "from keras.layers import Dense, Conv2D , MaxPool2D , Flatten , Dropout , BatchNormalization\n",
        "from keras.preprocessing.image import ImageDataGenerator\n",
        "from sklearn.model_selection import train_test_split\n",
        "from sklearn.metrics import classification_report,confusion_matrix\n",
        "from keras.callbacks import ReduceLROnPlateau\n",
        "import cv2"
      ],
      "metadata": {
        "id": "VhTyavs1HWRV"
      },
      "execution_count": 2,
      "outputs": []
    },
    {
      "cell_type": "markdown",
      "source": [],
      "metadata": {
        "id": "0vgx8lppI6nw"
      }
    },
    {
      "cell_type": "code",
      "source": [
        "labels = ['PNEUMONIA', 'NORMAL']\n",
        "img_size = 150\n",
        "def get_data(dir):\n",
        "   data = [] \n",
        "   for label in labels: \n",
        "      path = os.path.join(dir, label)\n",
        "      class_num = labels.index(label)\n",
        "      for img in os.listdir(path):\n",
        "        try:\n",
        "            img_arr = cv2.imread(os.path.join(path, img), cv2.IMREAD_GRAYSCALE)\n",
        "            resized_arr = cv2.resize(img_arr, (img_size, img_size)) \n",
        "            data.append([resized_arr, class_num])\n",
        "        except Exception as e:\n",
        "            print(e)\n",
        "   return np.array(data)"
      ],
      "metadata": {
        "id": "4lRwgN1gI68A"
      },
      "execution_count": 3,
      "outputs": []
    },
    {
      "cell_type": "code",
      "source": [
        "train = get_data('./pneumonia-classifier/chest_xray/train')\n",
        "test  = get_data('./pneumonia-classifier/chest_xray/test') \n",
        "val   = get_data('./pneumonia-classifier/chest_xray/val') "
      ],
      "metadata": {
        "colab": {
          "base_uri": "https://localhost:8080/"
        },
        "id": "1F3zr6DiKLEX",
        "outputId": "36f6093f-c9be-4485-dc7e-2fc179e892d7"
      },
      "execution_count": 6,
      "outputs": [
        {
          "output_type": "stream",
          "name": "stderr",
          "text": [
            "/usr/local/lib/python3.7/dist-packages/ipykernel_launcher.py:15: VisibleDeprecationWarning: Creating an ndarray from ragged nested sequences (which is a list-or-tuple of lists-or-tuples-or ndarrays with different lengths or shapes) is deprecated. If you meant to do this, you must specify 'dtype=object' when creating the ndarray.\n",
            "  from ipykernel import kernelapp as app\n"
          ]
        }
      ]
    },
    {
      "cell_type": "code",
      "source": [
        "train"
      ],
      "metadata": {
        "colab": {
          "base_uri": "https://localhost:8080/"
        },
        "id": "8IBvkBN1Kc3f",
        "outputId": "1e6fbadd-a021-4ef0-d341-ea4ad65b8fee"
      },
      "execution_count": 7,
      "outputs": [
        {
          "output_type": "execute_result",
          "data": {
            "text/plain": [
              "array([[array([[ 90,  64,  33, ...,  59,  56,  38],\n",
              "               [ 77,  48,  33, ...,  97,  89,  58],\n",
              "               [ 68, 110,  69, ...,  91,  63, 113],\n",
              "               ...,\n",
              "               [ 18,  17,  17, ...,  19,  19,  18],\n",
              "               [ 18,  17,  16, ...,  19,  19,  19],\n",
              "               [ 16,  17,  16, ...,  19,  19,  19]], dtype=uint8), 0],\n",
              "       [array([[0, 0, 0, ..., 0, 0, 0],\n",
              "               [0, 0, 0, ..., 0, 0, 0],\n",
              "               [0, 0, 0, ..., 0, 0, 0],\n",
              "               ...,\n",
              "               [0, 0, 0, ..., 0, 0, 0],\n",
              "               [0, 0, 0, ..., 0, 0, 0],\n",
              "               [4, 0, 0, ..., 0, 0, 4]], dtype=uint8), 0],\n",
              "       [array([[12, 12, 12, ...,  9,  6,  1],\n",
              "               [12, 13, 12, ..., 10, 10,  2],\n",
              "               [11, 11, 11, ..., 11,  9,  5],\n",
              "               ...,\n",
              "               [37, 35, 35, ..., 16, 16, 17],\n",
              "               [36, 35, 33, ..., 16, 16, 17],\n",
              "               [36, 32, 27, ..., 17, 16, 17]], dtype=uint8), 0],\n",
              "       ...,\n",
              "       [array([[ 0,  0,  0, ..., 32, 34, 22],\n",
              "               [16, 13, 13, ..., 31, 28, 21],\n",
              "               [34, 30, 29, ..., 28, 23, 17],\n",
              "               ...,\n",
              "               [ 0,  0,  0, ...,  0,  0,  0],\n",
              "               [ 0,  0,  0, ...,  0,  0,  0],\n",
              "               [ 0,  0,  0, ...,  0,  0,  0]], dtype=uint8), 1],\n",
              "       [array([[185, 152, 135, ...,  97,  95,  85],\n",
              "               [157, 163, 140, ..., 100,  93,  85],\n",
              "               [ 97, 174, 139, ..., 103,  92,  83],\n",
              "               ...,\n",
              "               [  0,   0,   0, ...,   0,   0,   0],\n",
              "               [  0,   0,   0, ...,   0,   0,   0],\n",
              "               [  0,   0,   0, ...,   0,   0,   0]], dtype=uint8), 1],\n",
              "       [array([[73, 69, 76, ..., 66, 59, 76],\n",
              "               [79, 82, 86, ..., 77, 75, 83],\n",
              "               [81, 82, 84, ..., 85, 85, 95],\n",
              "               ...,\n",
              "               [ 0,  0,  0, ...,  0,  0,  0],\n",
              "               [ 0,  0,  0, ...,  0,  0,  0],\n",
              "               [ 0,  0,  0, ...,  0,  0,  0]], dtype=uint8), 1]],\n",
              "      dtype=object)"
            ]
          },
          "metadata": {},
          "execution_count": 7
        }
      ]
    }
  ]
}