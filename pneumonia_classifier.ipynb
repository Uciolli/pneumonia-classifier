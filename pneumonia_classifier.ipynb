{
  "nbformat": 4,
  "nbformat_minor": 0,
  "metadata": {
    "colab": {
      "provenance": [],
      "authorship_tag": "ABX9TyNTVJtUb7sGXR2A8JRcbpuE",
      "include_colab_link": true
    },
    "kernelspec": {
      "name": "python3",
      "display_name": "Python 3"
    },
    "language_info": {
      "name": "python"
    }
  },
  "cells": [
    {
      "cell_type": "markdown",
      "metadata": {
        "id": "view-in-github",
        "colab_type": "text"
      },
      "source": [
        "<a href=\"https://colab.research.google.com/github/Uciolli/pneumonia-classifier/blob/main/pneumonia_classifier.ipynb\" target=\"_parent\"><img src=\"https://colab.research.google.com/assets/colab-badge.svg\" alt=\"Open In Colab\"/></a>"
      ]
    },
    {
      "cell_type": "code",
      "execution_count": 1,
      "metadata": {
        "colab": {
          "base_uri": "https://localhost:8080/"
        },
        "id": "k-EXaH03F6B8",
        "outputId": "b24ef6ac-8fd3-47b7-d494-7f66099d9cee"
      },
      "outputs": [
        {
          "output_type": "stream",
          "name": "stdout",
          "text": [
            "Cloning into 'pneumonia-classifier'...\n",
            "remote: Enumerating objects: 5840, done.\u001b[K\n",
            "remote: Counting objects: 100% (4/4), done.\u001b[K\n",
            "remote: Compressing objects: 100% (4/4), done.\u001b[K\n",
            "remote: Total 5840 (delta 0), reused 4 (delta 0), pack-reused 5836\u001b[K\n",
            "Receiving objects: 100% (5840/5840), 1.13 GiB | 34.35 MiB/s, done.\n",
            "Checking out files: 100% (5858/5858), done.\n"
          ]
        }
      ],
      "source": [
        "! git clone https://github.com/Uciolli/pneumonia-classifier\n"
      ]
    }
  ]
}